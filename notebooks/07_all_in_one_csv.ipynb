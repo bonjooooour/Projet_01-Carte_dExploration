{
 "cells": [
  {
   "cell_type": "markdown",
   "id": "7f8f7332",
   "metadata": {},
   "source": [
    "### Librairies"
   ]
  },
  {
   "cell_type": "code",
   "execution_count": null,
   "id": "8bcc58bf",
   "metadata": {},
   "outputs": [],
   "source": [
    "import pandas as pd\n",
    "import matplotlib.pyplot as plt\n",
    "import os\n",
    "import numpy as np\n",
    "from scipy.spatial import cKDTree"
   ]
  },
  {
   "cell_type": "markdown",
   "id": "fd20a1db",
   "metadata": {},
   "source": [
    "***"
   ]
  },
  {
   "cell_type": "markdown",
   "id": "2eb2eebf",
   "metadata": {},
   "source": [
    "### Dossiers source & destination"
   ]
  },
  {
   "cell_type": "code",
   "execution_count": null,
   "id": "2374642b",
   "metadata": {},
   "outputs": [],
   "source": [
    "INPUT_FOLDER = \"/Users/mgerenius/VScode_Workspace/Projet_01-Carte_dExploration/data/CSV_files\"\n",
    "OUTPUT_FOLDER = \"/Users/mgerenius/VScode_Workspace/Projet_01-Carte_dExploration/data/FINAL_data\"\n",
    "FINAL_CSV_FILE = \"FINAL_REDUCED_DATA.csv\""
   ]
  },
  {
   "cell_type": "markdown",
   "id": "2b55ba6a",
   "metadata": {},
   "source": [
    "***"
   ]
  },
  {
   "cell_type": "markdown",
   "id": "c2295a13",
   "metadata": {},
   "source": [
    "### Fusion en 1 unique fichier CSV"
   ]
  },
  {
   "cell_type": "markdown",
   "id": "14f58bba",
   "metadata": {},
   "source": [
    "Détection fichiers vides"
   ]
  },
  {
   "cell_type": "code",
   "execution_count": null,
   "id": "6c8eda42",
   "metadata": {},
   "outputs": [],
   "source": [
    "def file_is_empty(file):\n",
    "    \"\"\"\n",
    "    Vérifie si un fichier est vide : taille < 5 octets\n",
    "\n",
    "    param:\n",
    "    - file : fichier inspecté\n",
    "\n",
    "    sortie : \n",
    "    - True : booléen, si le fichier est bien vide\n",
    "    \"\"\"\n",
    "    if os.path.getsize(file) < 5:\n",
    "        return True"
   ]
  },
  {
   "cell_type": "markdown",
   "id": "c40f34cf",
   "metadata": {},
   "source": [
    "Fusion de multiples CSV en 1 unique fichier"
   ]
  },
  {
   "cell_type": "code",
   "execution_count": null,
   "id": "c97521cd",
   "metadata": {},
   "outputs": [],
   "source": [
    "def multiple_to_one_csv(input_folder, output_folder):\n",
    "    \"\"\"\n",
    "    Fusionne l'ensemble des fichiers CSV pour n'en former plus qu'un seul\n",
    "    \n",
    "    param:\n",
    "    - input_folder : emplacement des multiples fichiers CSV\n",
    "    \n",
    "    sortie : \n",
    "    - output_folder : dossier de stockage du fichier unique\n",
    "    \"\"\"\n",
    "    # Création du dossier de sotie si non existant\n",
    "    if not os.path.exists(output_folder):\n",
    "        os.makedirs(output_folder)\n",
    "    \n",
    "    df_list = []    # Création d'une liste vide\n",
    "\n",
    "    # itération de l'ensemble des fichiers\n",
    "    for element in os.listdir(input_folder):\n",
    "    \n",
    "        file = os.path.join(input_folder, element)  # \"file\" = chemin d'accès complet du fichier\n",
    "        \n",
    "        # Vérification que le fichier inspecté n'est pas vide\n",
    "        if not file_is_empty(file):\n",
    "\n",
    "            # Stockage des données dans un dataframe, puis ajout à la liste\n",
    "            df = pd.read_csv(file, encoding='utf-8')\n",
    "            df_list.append(df)\n",
    "\n",
    "    # Création et sauvegarde du CSV final\n",
    "    final_file = os.path.join(output_folder, \"FINAL_dataframe.csv\") # \"final_file\" = chemin d'accès complet du fichier final\n",
    "    pd.concat(df_list).to_csv(final_file)\n",
    "\n",
    "    return final_file"
   ]
  },
  {
   "cell_type": "markdown",
   "id": "6573e08c",
   "metadata": {},
   "source": [
    "Normalisation du fichier CSV au format souhaité"
   ]
  },
  {
   "cell_type": "code",
   "execution_count": null,
   "id": "6b7d564e",
   "metadata": {},
   "outputs": [],
   "source": [
    "def dataframe_cleaning(final_csv_file):\n",
    "    \"\"\" \n",
    "    Formatage du CSV final sous le format :\n",
    "    |   nom     |    date    |   latitude    |   longitude   |\n",
    "\n",
    "    param :\n",
    "    - fichier à normaliser\n",
    "    \"\"\"\n",
    "    df = pd.read_csv(final_csv_file)\n",
    "    \n",
    "    data_list = []\n",
    "\n",
    "    # itération sur chaque ligne pour normalisation\n",
    "    for row in df.itertuples():\n",
    "        data_list.append({\n",
    "                \"nom\": row.nom,\n",
    "                \"date\": row.date,\n",
    "                \"latitude\": round(row.latitude, 4), # Précision à 4 décimales ≈ 11m\n",
    "                \"longitude\": round(row.longitude, 4)\n",
    "            })\n",
    "        \n",
    "    # Stockage dans un dataframe & enregistrement au format CSV\n",
    "    new_df = pd.DataFrame(data_list)\n",
    "    new_df.to_csv(final_csv_file, encoding=\"utf-8\")  # On écrase la version du CSV non-normalisée"
   ]
  },
  {
   "cell_type": "markdown",
   "id": "6b637d20",
   "metadata": {},
   "source": [
    "Appels des fonctions"
   ]
  },
  {
   "cell_type": "code",
   "execution_count": null,
   "id": "dd31618f",
   "metadata": {},
   "outputs": [],
   "source": [
    "FINAL_DATAFRAME = multiple_to_one_csv(INPUT_FOLDER, OUTPUT_FOLDER)\n",
    "\n",
    "dataframe_cleaning(FINAL_DATAFRAME)\n",
    "\n",
    "print(\"\\nFichiers CSV fusionnés et résultat nettoyé\")"
   ]
  },
  {
   "cell_type": "markdown",
   "id": "80eb5bb2",
   "metadata": {},
   "source": [
    "***"
   ]
  },
  {
   "cell_type": "markdown",
   "id": "e11688f6",
   "metadata": {},
   "source": [
    "### Visualisation des données"
   ]
  },
  {
   "cell_type": "code",
   "execution_count": null,
   "id": "6d2e4549",
   "metadata": {},
   "outputs": [],
   "source": [
    "df = pd.read_csv(FINAL_DATAFRAME)\n",
    "result = df.head()\n",
    "nbr_of_lines = len(df)\n",
    "\n",
    "print(result)\n",
    "print(f\"\\nNombre de lignes : {nbr_of_lines}\")"
   ]
  },
  {
   "cell_type": "code",
   "execution_count": null,
   "id": "1c8122b9",
   "metadata": {},
   "outputs": [],
   "source": [
    "df = pd.read_csv(FINAL_DATAFRAME)\n",
    "\n",
    "ax = df.head(nbr_of_lines).plot.scatter(\n",
    "        x='longitude',\n",
    "        y='latitude',\n",
    "        color='DarkBlue',\n",
    "        title='Positions GPS'\n",
    "    )\n",
    "\n",
    "plt.xlabel('Longitude')\n",
    "plt.ylabel('Latitude')\n",
    "plt.grid(True)\n",
    "plt.show()\n"
   ]
  },
  {
   "cell_type": "markdown",
   "id": "b12dce94",
   "metadata": {},
   "source": [
    "***"
   ]
  },
  {
   "cell_type": "markdown",
   "id": "0ee7a45d",
   "metadata": {},
   "source": [
    "### Réduction du nombre de données"
   ]
  },
  {
   "cell_type": "markdown",
   "id": "49a82069",
   "metadata": {},
   "source": [
    "**Brouillons :**"
   ]
  },
  {
   "cell_type": "markdown",
   "id": "2a50bf53",
   "metadata": {},
   "source": [
    "Brouillon 1"
   ]
  },
  {
   "cell_type": "code",
   "execution_count": null,
   "id": "c972253e",
   "metadata": {},
   "outputs": [],
   "source": [
    "df1 = pd.read_csv(FINAL_DATAFRAME)\n",
    "\n",
    "\n",
    "# print(df.head(5))\n",
    "# print(len(df1))\n",
    "\n",
    "\n",
    "# for i in range(5):\n",
    "#     print(df1.iloc[i])\n",
    "\n",
    "\n",
    "df1 = df1.drop(index=2).reset_index(drop=True)  # Suppression de ligne\n",
    "df1 = df1.iloc[:10].reset_index(drop=True)  # Troncage du dataframe\n",
    "df1 = df1.drop(columns='Unnamed: 0')    # suppresion d'une colonne\n",
    "\n",
    "lat_ligne_idx_0 = df1.loc[4]['latitude']    # latitude de la 5e ligne\n",
    "\n",
    "\n",
    "print(lat_ligne_idx_0)\n",
    "print(\"\\n\")\n",
    "print(df1)\n",
    "\n",
    "# df1.to_csv(OUTPUT_FOLDER+\"test.csv\", encoding=\"utf-8\")    # Enregistrement en CSV"
   ]
  },
  {
   "cell_type": "markdown",
   "id": "07103a60",
   "metadata": {},
   "source": [
    "Brouillon 2"
   ]
  },
  {
   "cell_type": "code",
   "execution_count": null,
   "id": "acf9d31b",
   "metadata": {},
   "outputs": [],
   "source": [
    "\n",
    "# a : Biogroup\n",
    "a_lat = 48.885132\n",
    "a_long = 2.172250\n",
    "\n",
    "# b : Rueil Ma vision\n",
    "b_lat = 48.885393\n",
    "b_long = 2.172434\n",
    "\n",
    "# c : Rueil Bodyhit\n",
    "c_lat = 48.885798\n",
    "c_long = 2.171344\n",
    "\n",
    "a = np.array((a_lat, a_long))\n",
    "b = np.array((b_lat, b_long))\n",
    "c = np.array((c_lat, c_long))\n",
    "\n",
    "\n",
    "euclid_dist = np.linalg.norm(a-b)\n",
    "euclid_dist_2 = np.linalg.norm(a-c)\n",
    "\n",
    "print(f\"Distance entre Biogroup et Rueil ma vision : {round(euclid_dist, 5)}  = 10m\")\n",
    "print(f\"Distance entre Biogroup et Bodyhit : {round(euclid_dist_2, 5)}    = 100m\")\n",
    "\n",
    "\n",
    "import math\n",
    "dist = math.sqrt((a_lat-b_lat)**2 + (a_long-b_long)**2)\n",
    "print(f\"Vérification que la fonction np.linalg retourne bien la distance euclidienne : {dist - euclid_dist}\")"
   ]
  },
  {
   "cell_type": "markdown",
   "id": "f8e3d376",
   "metadata": {},
   "source": [
    "**RÉSULTAT :**\n",
    "Le **seuil (lambda)** à été défini à **11m** d'écart, soit une **distance euclidienne de 0.00035** entre 2 points de coordonnées"
   ]
  },
  {
   "cell_type": "markdown",
   "id": "3963c0bf",
   "metadata": {},
   "source": [
    "**Fonctions :**"
   ]
  },
  {
   "cell_type": "markdown",
   "id": "60c108a4",
   "metadata": {},
   "source": [
    "Calcul de distance enclidienne entre 2 points\n",
    "#INUTILE"
   ]
  },
  {
   "cell_type": "code",
   "execution_count": null,
   "id": "b52bc338",
   "metadata": {},
   "outputs": [],
   "source": [
    "def euclidian_dist(a, b):\n",
    "    \"\"\"\n",
    "    Calacule la distance euclidienne entre 2 couples de points GPS (2-dimensionnel)\n",
    "    \n",
    "    param : \n",
    "    - a (array-like) : couple de réels (a_lat, a_long)\n",
    "    - b (array-like) : couple de réels (b_lat, b_long)\n",
    "\n",
    "    sortie : \n",
    "    - dist (float) : distance euclidienne entre les 2 pts\n",
    "    \"\"\"\n",
    "    dist =  float(np.linalg.norm(np.array(a) - np.array(b)))\n",
    "    return round(dist, 5)"
   ]
  },
  {
   "cell_type": "markdown",
   "id": "ccf9c005",
   "metadata": {},
   "source": [
    "**V1 :** Algorithme de recherche de proches voisins et de réduction de données"
   ]
  },
  {
   "cell_type": "code",
   "execution_count": null,
   "id": "94d7d73e",
   "metadata": {},
   "outputs": [],
   "source": [
    "# #def data_reduction_algo(final_dataframe_csv):\n",
    "# \"\"\" \n",
    "# Réduit la quantité de données GPS présente dans le fichier CSV final.\n",
    "# Passe en revue chaque couple de coordonnées (latitude, longitude) et supprime du dataframe \n",
    "# tous les autres couples ayant une distance euclidienne \"très proche\" du couple de référence.\n",
    "# Un seuil arbitraire Lambda est fixé pour définir comme \"très proches\" deux couples de coordonnées.\n",
    "# \"\"\"\n",
    "\n",
    "\n",
    "# # Définition du seuil de proximité\n",
    "# Lambda = 0.00035    # ≈ 11m\n",
    "# counter_suppr = 0\n",
    "# counter_ok = 0\n",
    "\n",
    "# # Création du dataframe\n",
    "# df = pd.read_csv(FINAL_DATAFRAME)       # Lecture du fichier CSV\n",
    "# df = df.drop(columns='Unnamed: 0')      # suppresion d'une colonne inutile\n",
    "\n",
    "# # Point A : Itération n des N lignes du df\n",
    "# for row_n in df.itertuples():\n",
    "#     a_lat = row_n.latitude          # latitude de la ligne n\n",
    "#     a_long = row_n.longitude        # longitude de la ligne n\n",
    "#     n_1 = row_n.Index + 1           # indice de la ligne n+1, pour initialiser l'itération sur k\n",
    "    \n",
    "#     print(f\"Taille du df : {len(df)}\")\n",
    "#     print(f\" n = {row_n.Index}\")\n",
    "    \n",
    "#     # Point B : Itération k des K lignes restantes (K = N - n) du df, en partant de l'indice n_1 (= n+1)\n",
    "#     for row_k in df.iloc[n_1:].itertuples():\n",
    "#         b_lat = row_k.latitude          # latitude de la ligne k\n",
    "#         b_long = row_k.longitude        # longitude de la ligne k\n",
    "        \n",
    "#         # Calcul de la distance euclidienne entre le point A et le point B\n",
    "#         a = np.array((a_lat, a_long))\n",
    "#         b = np.array((b_lat, b_long))\n",
    "#         dist = euclidian_dist(a, b)\n",
    "\n",
    "#         # Vérification si la distance entre A et B est inférieur à Lambda, le seuil de proximité définit\n",
    "#         # Si inférieure, suppression du point de coordonnées B\n",
    "#         if dist < Lambda:\n",
    "#             df = df.drop(index=row_k.Index).reset_index(drop=True)  # Suppression de ligne\n",
    "#             counter_suppr += 1\n",
    "#         else:\n",
    "#             counter_ok += 1\n",
    "\n",
    "#     print(f\"lignes supprimées : {counter_suppr}\")\n",
    "#     print(f\"lignes conservées : {counter_ok}\")\n",
    "\n",
    "\n",
    "#     print(\"\\nPOINT SUIVANT\\n\")\n"
   ]
  },
  {
   "cell_type": "markdown",
   "id": "2fe85802",
   "metadata": {},
   "source": [
    "**V2 :** Algorithme optimisé de recherche de proches voisins et de réduction de données"
   ]
  },
  {
   "cell_type": "code",
   "execution_count": null,
   "id": "49cce7c0",
   "metadata": {},
   "outputs": [],
   "source": [
    "def data_reduc_algo(final_csv_file):\n",
    "    \"\"\" \n",
    "    Réduit la quantité de données GPS présente dans le fichier CSV final.\n",
    "    Passe en revue chaque couple de coordonnées (latitude, longitude) et supprime du dataframe \n",
    "    les couples voisins ayant une distance euclidienne \"très proche\" du couple de référence.\n",
    "    Un seuil arbitraire Lambda est fixé pour définir comme \"très proches\" deux couples de coordonnées.\n",
    "\n",
    "    param:\n",
    "    - \n",
    "\n",
    "    sortie :\n",
    "    -\n",
    "    \"\"\"\n",
    "\n",
    "    # Seuil de proximité\n",
    "    Lambda = 0.00035        # ≈ 11m\n",
    "\n",
    "    # Création du dataframe\n",
    "    df = pd.read_csv(final_csv_file)        # Lecture du fichier CSV à réduire\n",
    "    df = df.drop(columns='Unnamed: 0', errors='ignore')      # suppresion d'une colonne inutile\n",
    "    \n",
    "\n",
    "    # Suppression des lignes contenant des NaN\n",
    "    df = df[['latitude', 'longitude']].dropna()\n",
    "    df = df.reset_index(drop=True)\n",
    "    N = len(df)\n",
    "\n",
    "    # Extraction des coordonnées GPS et convertion du df en un tableau NumPy 2D (N, 2)\n",
    "    coords = df[['latitude', 'longitude']].values   \n",
    "\n",
    "    # Création d'un arbre 2-dimensionnel cKDTree, pour recherche spatiale\n",
    "    tree = cKDTree(coords)\n",
    "\n",
    "    # Initialisation de l'ensemble contenant les points à supprimer\n",
    "    coords_to_delete = set()\n",
    "\n",
    "    # Itération de l'ensemble des points de coords\n",
    "    for i in range(N):\n",
    "        # Si le pt est déjà marqué comme à supprimer, on passe\n",
    "        if i in coords_to_delete:\n",
    "            continue \n",
    "        \n",
    "        # Recherche des proches voisins présent sous le seuil Lambda\n",
    "        neighbors = tree.query_ball_point(coords[i], Lambda)    # Calcul de la distance euclidienne intégré\n",
    "        neighbors = [n for n in neighbors if n != i]            # Exclusion du couple de coords d'indice i (car distance entre un point et lui même forcément = 0 donc < Lambda)\n",
    "        coords_to_delete.update(neighbors)                      # Ajout des proches voisins dans l'ensemble des points à suppr \n",
    "\n",
    "    # Suppression finale de l'ensemble des coordonnées définies comme \"proches voisins\" d'un autre couple\n",
    "    df_reduced = df.drop(index=coords_to_delete).reset_index(drop=True)\n",
    "\n",
    "    print(\"Pour Lambda ≈ 11m\")\n",
    "    print(f\"Lignes supprimées : {len(coords_to_delete)}\")\n",
    "    print(f\"Lignes conservées : {len(df_reduced)}\")\n",
    "\n",
    "    return df_reduced\n",
    "\n",
    "\n",
    "df_reduced = data_reduc_algo(FINAL_DATAFRAME)"
   ]
  },
  {
   "cell_type": "markdown",
   "id": "bbac81e9",
   "metadata": {},
   "source": [
    "**V3 :** VERSION FINALE "
   ]
  },
  {
   "cell_type": "code",
   "execution_count": null,
   "id": "55b76c1a",
   "metadata": {},
   "outputs": [],
   "source": [
    "def data_reduc_algo(final_csv_file):\n",
    "    \"\"\" \n",
    "    Réduit la quantité de données GPS présente dans le fichier CSV final.\n",
    "    Passe en revue chaque couple de coordonnées (latitude, longitude) et supprime du dataframe \n",
    "    les couples voisins ayant une distance euclidienne \"très proche\" du couple de référence.\n",
    "    Un seuil arbitraire Lambda est fixé pour définir comme \"très proches\" deux couples de coordonnées.\n",
    "\n",
    "    param:\n",
    "    - \n",
    "\n",
    "    sortie :\n",
    "    -\n",
    "    \"\"\"\n",
    "\n",
    "    # Seuil de proximité\n",
    "    Lambda = 0.00035        # ≈ 11m\n",
    "\n",
    "    # Création du dataframe\n",
    "    df = pd.read_csv(final_csv_file)        # Lecture du fichier CSV à réduire\n",
    "    df = df.drop(columns='Unnamed: 0', errors='ignore')      # suppresion d'une colonne inutile\n",
    "    \n",
    "\n",
    "    # Suppression des lignes contenant des NaN\n",
    "    df = df.dropna(subset=['latitude', 'longitude'])\n",
    "    df = df.reset_index(drop=True)\n",
    "    N = len(df)\n",
    "\n",
    "    # Extraction des coordonnées GPS et convertion du df en un tableau NumPy 2D (N, 2)\n",
    "    coords = df[['latitude', 'longitude']].values   \n",
    "\n",
    "    # Création d'un arbre 2-dimensionnel cKDTree, pour recherche spatiale\n",
    "    tree = cKDTree(coords)\n",
    "\n",
    "    # Initialisation de l'ensemble contenant les points à supprimer\n",
    "    coords_to_delete = set()\n",
    "\n",
    "    # Itération de l'ensemble des points de coords\n",
    "    for i in range(N):\n",
    "        # Si le pt est déjà marqué comme à supprimer, on passe\n",
    "        if i in coords_to_delete:\n",
    "            continue \n",
    "        \n",
    "        # Recherche des proches voisins présent sous le seuil Lambda\n",
    "        neighbors = tree.query_ball_point(coords[i], Lambda)    # Calcul de la distance euclidienne intégré\n",
    "        neighbors = [n for n in neighbors if n != i]            # Exclusion du couple de coords d'indice i (car distance entre un point et lui même forcément = 0 donc < Lambda)\n",
    "        coords_to_delete.update(neighbors)                      # Ajout des proches voisins dans l'ensemble des points à suppr \n",
    "\n",
    "    # Suppression finale de l'ensemble des coordonnées définies comme \"proches voisins\" d'un autre couple\n",
    "    df_reduced = df.drop(index=coords_to_delete).reset_index(drop=True)\n",
    "\n",
    "    print(\"Pour Lambda ≈ 11m\")\n",
    "    print(f\"Lignes supprimées : {len(coords_to_delete)}\")\n",
    "    print(f\"Lignes conservées : {len(df_reduced)}\")\n",
    "    print(df_reduced)\n",
    "    \n",
    "\n",
    "    return df_reduced\n",
    "    \n",
    "\n",
    "\n",
    "\n",
    "df_reduced = data_reduc_algo(FINAL_DATAFRAME)"
   ]
  },
  {
   "cell_type": "markdown",
   "id": "f2de93ad",
   "metadata": {},
   "source": [
    "***"
   ]
  },
  {
   "cell_type": "markdown",
   "id": "328829d9",
   "metadata": {},
   "source": [
    "### Enregistrement du nouveau fichier CSV"
   ]
  },
  {
   "cell_type": "code",
   "execution_count": null,
   "id": "1fd75051",
   "metadata": {},
   "outputs": [],
   "source": [
    "df_reduced.to_csv(OUTPUT_FOLDER + \"/\" + FINAL_CSV_FILE, index=False, encoding=\"utf-8\")"
   ]
  }
 ],
 "metadata": {
  "kernelspec": {
   "display_name": ".venv",
   "language": "python",
   "name": "python3"
  },
  "language_info": {
   "codemirror_mode": {
    "name": "ipython",
    "version": 3
   },
   "file_extension": ".py",
   "mimetype": "text/x-python",
   "name": "python",
   "nbconvert_exporter": "python",
   "pygments_lexer": "ipython3",
   "version": "3.12.3"
  }
 },
 "nbformat": 4,
 "nbformat_minor": 5
}
