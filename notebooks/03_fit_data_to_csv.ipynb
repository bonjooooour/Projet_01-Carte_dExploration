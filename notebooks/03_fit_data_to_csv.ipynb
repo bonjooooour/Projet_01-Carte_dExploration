{
 "cells": [
  {
   "cell_type": "code",
   "execution_count": null,
   "metadata": {},
   "outputs": [],
   "source": [
    "\"\"\"\n",
    "Librairies\n",
    "\"\"\"\n",
    "\n",
    "from fitparse import FitFile\n",
    "import pandas as pd\n",
    "import os\n",
    "import gzip\n",
    "import shutil"
   ]
  },
  {
   "cell_type": "code",
   "execution_count": null,
   "metadata": {},
   "outputs": [],
   "source": [
    "\n",
    "\"\"\"\n",
    "Fonction pour dézipper 1 fichier compressé .gz en fichier .fit\n",
    "\"\"\"\n",
    "\n",
    "\n",
    "def unzip_gz_files(file, output_folder):\n",
    "    \"\"\"\n",
    "    \n",
    "    \"\"\"\n",
    "    if file.endswith(\".gz\"):\n",
    "        file_name = os.path.basename(file)  # Récupère le nom du fichier\n",
    "        output_path = os.path.join(output_folder, file_name[:-3])  # Retire \".gz\" de l'extension\n",
    "\n",
    "        with gzip.open(file, 'rb') as f_in, open(output_path, 'wb') as f_out:\n",
    "            shutil.copyfileobj(f_in, f_out)\n",
    "\n",
    "        file_name = os.path.basename(file)\n",
    "        output_folder_name = os.path.basename(output_folder)\n",
    "\n",
    "\n",
    "        print(f\"le fichier {file_name} a bien été décompréssé et stocké dans le dossier {output_folder_name}\")\n",
    "\n",
    "\n",
    "\n",
    "file =  \"/Users/mgerenius/Downloads/Strava_data_export_20-03-2025/activities/10895317197.fit.gz\"\n",
    "output_folder = \"/Users/mgerenius/VScode Workspace/PROJET 01 - Carte d'exploration/data/GPX_files\"\n",
    "\n",
    "\n",
    "unzip_gz_files(file, output_folder)\n",
    "\n"
   ]
  },
  {
   "cell_type": "code",
   "execution_count": null,
   "metadata": {},
   "outputs": [],
   "source": [
    "\"\"\"\n",
    "Fonction pour convertir 1 fichier .fit en fichier CSV\n",
    "\"\"\"\n",
    "\n",
    "def fit_to_csv(file, output_folder):\n",
    "    fitfile = FitFile(file)\n",
    "\n",
    "    data = []\n",
    "\n",
    "    for record in fitfile.get_messages(\"record\"):  # Extraction des enregistrements principaux\n",
    "        record_data = {field.name: field.value for field in record}  # Dictionnaire des données\n",
    "        data.append(record_data)\n",
    "\n",
    "    # Sauvegarde du dataframe dans un CSV\n",
    "    file_name = os.path.basename(file)\n",
    "    csv_file_name = file_name.replace(\".fit\", \".csv\")\n",
    "\n",
    "    df = pd.DataFrame(data)\n",
    "    df.to_csv(output_folder + \"/\" + csv_file_name, index=False, encoding=\"utf-8\")\n",
    "    print(f\"Fichier {csv_file_name} généré avec succès !\")\n",
    "\n",
    "\n",
    "FIT_FILE = \"/Users/mgerenius/VScode_Workspace/Projet_01-Carte_dExploration/data/Strava_RAW_files/activities/11408573058.fit\"\n",
    "OUTPUT_FOLDER = \"/Users/mgerenius/Desktop/TEST_FOLDER\"\n",
    "\n",
    "fit_to_csv(FIT_FILE, OUTPUT_FOLDER)\n",
    "\n",
    "\n"
   ]
  }
 ],
 "metadata": {
  "kernelspec": {
   "display_name": ".venv",
   "language": "python",
   "name": "python3"
  },
  "language_info": {
   "codemirror_mode": {
    "name": "ipython",
    "version": 3
   },
   "file_extension": ".py",
   "mimetype": "text/x-python",
   "name": "python",
   "nbconvert_exporter": "python",
   "pygments_lexer": "ipython3",
   "version": "3.12.3"
  }
 },
 "nbformat": 4,
 "nbformat_minor": 2
}
