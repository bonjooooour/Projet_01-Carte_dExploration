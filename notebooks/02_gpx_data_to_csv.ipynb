{
 "cells": [
  {
   "cell_type": "code",
   "execution_count": null,
   "metadata": {},
   "outputs": [],
   "source": [
    "from gpx_converter import Converter\n",
    "\n",
    "input_file='your_input.gpx'\n",
    "output_file='your_output.csv'\n",
    "\n",
    "Converter(input_file).gpx_to_csv(output_file)"
   ]
  },
  {
   "cell_type": "code",
   "execution_count": null,
   "metadata": {},
   "outputs": [],
   "source": [
    "import os\n",
    "from gpx_converter import Converter\n",
    "\n",
    "def gpx_to_csv(file, output_folder):\n",
    "    if file.endswith(\".gpx\"):\n",
    "        # Vérifier et créer le dossier de sortie si nécessaire\n",
    "        if not os.path.exists(output_folder):\n",
    "            os.makedirs(output_folder)\n",
    "        \n",
    "        # Extraire le nom du fichier sans l'extension\n",
    "        file_name = os.path.basename(file)\n",
    "        csv_file_name = file_name.replace(\".gpx\", \".csv\")\n",
    "        output_file = os.path.join(output_folder, csv_file_name)\n",
    "        \n",
    "        # Conversion du fichier GPX en CSV\n",
    "        Converter(input_file=file).gpx_to_csv(output_file=output_file)\n",
    "        print(output_file)\n",
    "\n",
    "\n",
    "file = \"/Users/mgerenius/VScode_Workspace/Projet_01-Carte_dExploration/data/Strava_RAW_files/activities/9089229915.gpx\"\n",
    "output_folder = \"/Users/mgerenius/VScode_Workspace/Projet_01-Carte_dExploration/data/00_DATA_TEST\"\n",
    "\n",
    "gpx_to_csv(file, output_folder)"
   ]
  }
 ],
 "metadata": {
  "kernelspec": {
   "display_name": ".venv",
   "language": "python",
   "name": "python3"
  },
  "language_info": {
   "codemirror_mode": {
    "name": "ipython",
    "version": 3
   },
   "file_extension": ".py",
   "mimetype": "text/x-python",
   "name": "python",
   "nbconvert_exporter": "python",
   "pygments_lexer": "ipython3",
   "version": "3.12.3"
  }
 },
 "nbformat": 4,
 "nbformat_minor": 2
}
